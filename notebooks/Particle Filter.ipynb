{
 "cells": [
  {
   "cell_type": "markdown",
   "metadata": {
    "collapsed": true
   },
   "source": [
    "## Robot Tracking via Particle Filter\n",
    "\n",
    "Track a robot through a maze with a particle filter and visualise the results"
   ]
  },
  {
   "cell_type": "code",
   "execution_count": 1,
   "metadata": {},
   "outputs": [],
   "source": [
    "%load_ext autoreload\n",
    "%autoreload 1\n",
    "%aimport particle.map\n",
    "%aimport particle.filter\n",
    "\n",
    "import matplotlib.pyplot as plt\n",
    "import numpy as np\n",
    "from os.path import join\n",
    "import particle.filter as fl\n",
    "import particle.map as mp"
   ]
  },
  {
   "cell_type": "markdown",
   "metadata": {},
   "source": [
    "### Inspect maze\n",
    "\n",
    "Let's take a look at the landscape we'll be tracking the robot through"
   ]
  },
  {
   "cell_type": "code",
   "execution_count": 2,
   "metadata": {},
   "outputs": [
    {
     "data": {
      "image/png": "[encoded data removed]",
      "text/plain": [
       "<matplotlib.figure.Figure at 0x9264fd0>"
      ]
     },
     "metadata": {},
     "output_type": "display_data"
    }
   ],
   "source": [
    "# load the map\n",
    "le_map = mp.load_map('maze.jpg')\n",
    "\n",
    "# generate the route and get x,y position from it\n",
    "state_history = fl.generate_route(le_map)\n",
    "route = state_history[:, 1:3].astype('int')\n",
    "\n",
    "# plotting\n",
    "im = le_map.astype('float')\n",
    "im[route[:, 0], route[:, 1]] = 0.5\n",
    "plt.imshow(im, cmap='Greys')\n",
    "plt.show()"
   ]
  },
  {
   "cell_type": "code",
   "execution_count": 8,
   "metadata": {},
   "outputs": [
    {
     "data": {
      "text/plain": [
       "array([[   2.86564669,  118.        ,  545.        ,    0.        ],\n       [   2.22570583,  116.        ,  548.        ,    0.        ],\n       [   2.56523094,  113.        ,  550.        ,    0.        ],\n       ..., \n       [   4.32904335,   40.        ,  435.        ,    0.        ],\n       [   4.28720632,   38.        ,  431.        ,    0.        ],\n       [   1.18134463,   40.        ,  435.        ,    0.        ]])"
      ]
     },
     "execution_count": 8,
     "metadata": {},
     "output_type": "execute_result"
    }
   ],
   "source": [
    "route"
   ]
  },
  {
   "cell_type": "code",
   "execution_count": null,
   "metadata": {},
   "outputs": [],
   "source": [
    ""
   ]
  }
 ],
 "metadata": {
  "kernelspec": {
   "display_name": "Python 2",
   "language": "python",
   "name": "python2"
  },
  "language_info": {
   "codemirror_mode": {
    "name": "ipython",
    "version": 2
   },
   "file_extension": ".py",
   "mimetype": "text/x-python",
   "name": "python",
   "nbconvert_exporter": "python",
   "pygments_lexer": "ipython2",
   "version": "2.7.6"
  }
 },
 "nbformat": 4,
 "nbformat_minor": 0
}
